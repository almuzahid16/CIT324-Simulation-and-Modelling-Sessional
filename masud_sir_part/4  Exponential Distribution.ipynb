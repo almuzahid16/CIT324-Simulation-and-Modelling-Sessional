{
 "cells": [
  {
   "cell_type": "markdown",
   "source": [
    "#### Lab 04: Exponential Distribution:\n",
    "There were few waves in COVID-19 pandemic. Let a wave occurs every 100 days in Bangladesh, on average. After a wave occurs, find the probability using Exponential distribution that it will take more than 120 days for the next wave to occur. Simulate several Exponential distribution using rate parameters 0.5, 1.0, 2.0, and 4.0.\n",
    "\n",
    "\n",
    "``` We know Exponential Distribution = 1- e^(-X/Beta)\n",
    "where Beta means average value, mean and lambda means rate parameter\n",
    "so Beta = 1 / lambda ```"
   ],
   "metadata": {
    "collapsed": false
   }
  },
  {
   "cell_type": "code",
   "execution_count": 135,
   "metadata": {
    "collapsed": true,
    "ExecuteTime": {
     "end_time": "2023-08-12T20:33:29.895336200Z",
     "start_time": "2023-08-12T20:33:29.880507900Z"
    }
   },
   "outputs": [],
   "source": [
    "import numpy as np"
   ]
  },
  {
   "cell_type": "code",
   "execution_count": 136,
   "outputs": [],
   "source": [
    "Beta = 100  # Mean or Average\n",
    "Lambda = [0.5, 1, 2, 4]  # Rate Parameter\n",
    "X = 120"
   ],
   "metadata": {
    "collapsed": false,
    "ExecuteTime": {
     "end_time": "2023-08-12T20:33:29.895336200Z",
     "start_time": "2023-08-12T20:33:29.885514600Z"
    }
   }
  },
  {
   "cell_type": "code",
   "execution_count": 137,
   "outputs": [],
   "source": [
    "def exponential_distribution_with_beta(X, Beta):\n",
    "    probability = 1 - np.exp(-X / Beta)\n",
    "    # probability = (1 / Beta) * np.exp(-X / Beta)\n",
    "    return probability\n",
    "\n",
    "\n",
    "def exponential_distribution_with_lambda(X, Lambda):\n",
    "    probability = 1 - np.exp(-X * Lambda)\n",
    "    # probability = Lambda * np.exp(-Lambda * X)\n",
    "    return probability"
   ],
   "metadata": {
    "collapsed": false,
    "ExecuteTime": {
     "end_time": "2023-08-12T20:33:29.896335200Z",
     "start_time": "2023-08-12T20:33:29.892024800Z"
    }
   }
  },
  {
   "cell_type": "code",
   "execution_count": 138,
   "outputs": [
    {
     "name": "stdout",
     "output_type": "stream",
     "text": [
      "When average =  120 it will take more than 120 days for the next wave to occur 0.6988057880877978  % \n",
      "0.6988057880877978\n"
     ]
    }
   ],
   "source": [
    "probability = exponential_distribution_with_beta(X, Beta)\n",
    "print(\"When average = \", X, \"it will take more than 120 days for the next wave to occur\", (probability ),\n",
    "      \" % \")\n",
    "p = exponential_distribution_with_lambda(X,(1/Beta))\n",
    "print(p)"
   ],
   "metadata": {
    "collapsed": false,
    "ExecuteTime": {
     "end_time": "2023-08-12T20:33:29.923563400Z",
     "start_time": "2023-08-12T20:33:29.898850500Z"
    }
   }
  },
  {
   "cell_type": "code",
   "execution_count": 139,
   "outputs": [
    {
     "name": "stdout",
     "output_type": "stream",
     "text": [
      "When rate =  0.5 It will take more than 120 days for the next wave to occur 1.0  % \n",
      "When rate =  1 It will take more than 120 days for the next wave to occur 1.0  % \n",
      "When rate =  2 It will take more than 120 days for the next wave to occur 1.0  % \n",
      "When rate =  4 It will take more than 120 days for the next wave to occur 1.0  % \n"
     ]
    }
   ],
   "source": [
    "for lam in Lambda:\n",
    "    probability = exponential_distribution_with_lambda(X, lam)\n",
    "    print(\"When rate = \", lam, \"It will take more than 120 days for the next wave to occur\",\n",
    "          probability, \" % \")"
   ],
   "metadata": {
    "collapsed": false,
    "ExecuteTime": {
     "end_time": "2023-08-12T20:33:29.923563400Z",
     "start_time": "2023-08-12T20:33:29.907560100Z"
    }
   }
  }
 ],
 "metadata": {
  "kernelspec": {
   "display_name": "Python 3",
   "language": "python",
   "name": "python3"
  },
  "language_info": {
   "codemirror_mode": {
    "name": "ipython",
    "version": 2
   },
   "file_extension": ".py",
   "mimetype": "text/x-python",
   "name": "python",
   "nbconvert_exporter": "python",
   "pygments_lexer": "ipython2",
   "version": "2.7.6"
  }
 },
 "nbformat": 4,
 "nbformat_minor": 0
}
