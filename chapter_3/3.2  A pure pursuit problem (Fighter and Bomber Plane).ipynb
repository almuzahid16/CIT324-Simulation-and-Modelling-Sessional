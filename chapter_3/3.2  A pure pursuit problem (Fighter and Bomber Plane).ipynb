{
 "cells": [
  {
   "cell_type": "code",
   "execution_count": 76,
   "metadata": {
    "collapsed": true
   },
   "outputs": [],
   "source": [
    "import math"
   ]
  },
  {
   "cell_type": "code",
   "execution_count": 77,
   "outputs": [],
   "source": [
    "xb = [100, 100, 120, 129, 140, 149, 158, 168, 179, 188]\n",
    "yb = [0, 3, 6, 10, 15, 20, 26, 32, 37, 34]\n",
    "xf = 0\n",
    "yf = 50\n",
    "s = 25\n",
    "res = []"
   ],
   "metadata": {
    "collapsed": false
   }
  },
  {
   "cell_type": "code",
   "execution_count": 78,
   "outputs": [],
   "source": [
    "def distance(xb, yb):\n",
    "    y = yb - yf\n",
    "    y = y ** 2\n",
    "    x = xb - xf\n",
    "    x = x ** 2\n",
    "    val = x + y\n",
    "    return math.sqrt(val)"
   ],
   "metadata": {
    "collapsed": false
   }
  },
  {
   "cell_type": "code",
   "execution_count": 79,
   "outputs": [],
   "source": [
    "for i in range(len(xb)):\n",
    "    dist = distance(xb[i], yb[i])\n",
    "    sin = (yb[i] - yf) / dist\n",
    "    cos = (xb[i] - xf) / dist\n",
    "    xf_1 = xf + s * cos\n",
    "    yf_1 = yf + s * sin\n",
    "    res.append([xb[i], yb[i], xf, yf, dist, cos, sin, xf_1, yf_1])\n",
    "    xf = xf_1\n",
    "    yf = yf_1"
   ],
   "metadata": {
    "collapsed": false
   }
  },
  {
   "cell_type": "code",
   "execution_count": 80,
   "outputs": [
    {
     "name": "stdout",
     "output_type": "stream",
     "text": [
      "T 1 xb= 100 yb= 0 xf= 0 yf= 50 Distance= 111.8034 Cos= 0.8944 Sin= -0.4472 xf+1= 22.3607 yf+1= 38.8197\n",
      "T 2 xb= 100 yb= 3 xf= 22.3607 yf= 38.8197 Distance= 85.5039 Cos= 0.908 Sin= -0.4189 xf+1= 45.0612 yf+1= 28.3465\n",
      "T 3 xb= 120 yb= 6 xf= 45.0612 yf= 28.3465 Distance= 78.1997 Cos= 0.9583 Sin= -0.2858 xf+1= 69.0187 yf+1= 21.2025\n",
      "T 4 xb= 129 yb= 10 xf= 69.0187 yf= 21.2025 Distance= 61.0184 Cos= 0.983 Sin= -0.1836 xf+1= 93.5938 yf+1= 16.6127\n",
      "T 5 xb= 140 yb= 15 xf= 93.5938 yf= 16.6127 Distance= 46.4342 Cos= 0.9994 Sin= -0.0347 xf+1= 118.5787 yf+1= 15.7444\n",
      "T 6 xb= 149 yb= 20 xf= 118.5787 yf= 15.7444 Distance= 30.7175 Cos= 0.9904 Sin= 0.1385 xf+1= 143.3376 yf+1= 19.2079\n",
      "T 7 xb= 158 yb= 26 xf= 143.3376 yf= 19.2079 Distance= 16.1591 Cos= 0.9074 Sin= 0.4203 xf+1= 166.022 yf+1= 29.716\n",
      "T 8 xb= 168 yb= 32 xf= 166.022 yf= 29.716 Distance= 3.0214 Cos= 0.6547 Sin= 0.7559 xf+1= 182.3886 yf+1= 48.614\n",
      "T 9 xb= 179 yb= 37 xf= 182.3886 yf= 48.614 Distance= 12.0982 Cos= -0.2801 Sin= -0.96 xf+1= 175.3863 yf+1= 24.6147\n",
      "T 10 xb= 188 yb= 34 xf= 175.3863 yf= 24.6147 Distance= 15.7223 Cos= 0.8023 Sin= 0.5969 xf+1= 195.4433 yf+1= 39.5383\n"
     ]
    }
   ],
   "source": [
    "t = 0\n",
    "hit = []\n",
    "for i in res:\n",
    "    t += 1\n",
    "    if i[4] <= 20:\n",
    "        hit.append(t)\n",
    "    print(\"T\", t, \"xb=\", round(i[0], 4), \"yb=\", round(i[1], 4), \"xf=\", round(i[2], 4), \"yf=\", round(i[3], 4),\n",
    "          \"Distance=\", round(i[4], 4), \"Cos=\", round(i[5], 4), \"Sin=\", round(i[6], 4), \"xf+1=\", round(i[7], 4), \"yf+1=\",\n",
    "          round(i[8], 4))"
   ],
   "metadata": {
    "collapsed": false
   }
  },
  {
   "cell_type": "code",
   "execution_count": 81,
   "outputs": [
    {
     "name": "stdout",
     "output_type": "stream",
     "text": [
      "The fighter can hit in 7 8 9 10 s\n"
     ]
    }
   ],
   "source": [
    "print(\"The fighter can hit in\",*hit,\"s\")"
   ],
   "metadata": {
    "collapsed": false
   }
  }
 ],
 "metadata": {
  "kernelspec": {
   "display_name": "Python 3",
   "language": "python",
   "name": "python3"
  },
  "language_info": {
   "codemirror_mode": {
    "name": "ipython",
    "version": 2
   },
   "file_extension": ".py",
   "mimetype": "text/x-python",
   "name": "python",
   "nbconvert_exporter": "python",
   "pygments_lexer": "ipython2",
   "version": "2.7.6"
  }
 },
 "nbformat": 4,
 "nbformat_minor": 0
}
