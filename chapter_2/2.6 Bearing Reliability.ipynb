{
 "cells": [
  {
   "cell_type": "code",
   "execution_count": 1,
   "metadata": {
    "collapsed": true,
    "ExecuteTime": {
     "end_time": "2023-08-12T09:57:39.957983700Z",
     "start_time": "2023-08-12T09:57:39.205205900Z"
    }
   },
   "outputs": [],
   "source": [
    "import math\n",
    "import random\n",
    "import matplotlib.pyplot as plt"
   ]
  },
  {
   "cell_type": "code",
   "execution_count": 2,
   "outputs": [],
   "source": [
    "life = [1000, 1100, 1200, 1300, 1400, 1500, 1600, 1700, 1800, 1900]\n",
    "probability = [0.10, .14, .24, .14, .12, .10, .06, .05, .03, 0.02]\n",
    "probability = [int(i * 100) for i in probability]\n",
    "c_probability = [probability[0]]\n",
    "i = 1\n",
    "while i < len(probability):\n",
    "    c_probability.append(c_probability[i - 1] + probability[i])\n",
    "    i += 1\n",
    "\n",
    "delay = [4, 6, 8]\n",
    "delay_probability = [0.3, 0.6, 0.1]\n",
    "delay_probability = [int(i * 10) for i in delay_probability]\n",
    "c_delay_pro = [delay_probability[0]]\n",
    "i = 1\n",
    "while i < len(delay_probability):\n",
    "    c_delay_pro.append(c_delay_pro[i - 1] + delay_probability[i])\n",
    "    i += 1"
   ],
   "metadata": {
    "collapsed": false,
    "ExecuteTime": {
     "end_time": "2023-08-12T09:57:39.965819200Z",
     "start_time": "2023-08-12T09:57:39.961982Z"
    }
   }
  },
  {
   "cell_type": "code",
   "execution_count": 3,
   "outputs": [],
   "source": [
    "def clock():\n",
    "    x = random.randint(1, 100)\n",
    "    if x <= c_probability[0]:\n",
    "        return life[0]\n",
    "    elif x <= c_probability[1]:\n",
    "        return life[1]\n",
    "    elif x <= c_probability[2]:\n",
    "        return life[2]\n",
    "    elif x <= c_probability[3]:\n",
    "        return life[3]\n",
    "    elif x <= c_probability[4]:\n",
    "        return life[4]\n",
    "    elif x <= c_probability[5]:\n",
    "        return life[5]\n",
    "    elif x <= c_probability[6]:\n",
    "        return life[6]\n",
    "    elif x <= c_probability[7]:\n",
    "        return life[7]\n",
    "    elif x <= c_probability[8]:\n",
    "        return life[8]\n",
    "    else:\n",
    "        return life[9]\n",
    "\n",
    "\n",
    "def late():\n",
    "    x = random.randint(1, 10)\n",
    "    if x <= c_delay_pro[0]:\n",
    "        return delay[0]\n",
    "    elif x <= c_delay_pro[1]:\n",
    "        return delay[1]\n",
    "    else:\n",
    "        return delay[2]"
   ],
   "metadata": {
    "collapsed": false,
    "ExecuteTime": {
     "end_time": "2023-08-12T09:57:39.975325900Z",
     "start_time": "2023-08-12T09:57:39.969820600Z"
    }
   }
  },
  {
   "cell_type": "code",
   "execution_count": 4,
   "outputs": [
    {
     "name": "stdout",
     "output_type": "stream",
     "text": [
      "[1500, 1400, 1000, 1300, 1700, 1700, 1600, 1400, 1300, 1100, 1500, 1100, 1200, 1700, 1800]\n",
      "[1400, 1200, 1100, 1400, 1100, 1400, 1100, 1500, 1100, 1300, 1500, 1100, 1200, 1100, 1800, 1100]\n",
      "[1200, 1300, 1800, 1100, 1300, 1700, 1400, 1200, 1000, 1100, 1100, 1600, 1100, 1200, 1200, 1600]\n"
     ]
    }
   ],
   "source": [
    "bearing1_life = []\n",
    "bearing2_life = []\n",
    "bearing3_life = []\n",
    "\n",
    "lf = 0\n",
    "while lf < 20000:\n",
    "    i = clock()\n",
    "    lf += i\n",
    "    bearing1_life.append(i)\n",
    "lf = 0\n",
    "while lf < 20000:\n",
    "    i = clock()\n",
    "    lf += i\n",
    "    bearing2_life.append(i)\n",
    "lf = 0\n",
    "while lf < 20000:\n",
    "    i = clock()\n",
    "    lf += i\n",
    "    bearing3_life.append(i)\n",
    "\n",
    "print(bearing1_life)\n",
    "print(bearing2_life)\n",
    "print(bearing3_life)"
   ],
   "metadata": {
    "collapsed": false,
    "ExecuteTime": {
     "end_time": "2023-08-12T09:57:39.990770900Z",
     "start_time": "2023-08-12T09:57:39.976323300Z"
    }
   }
  },
  {
   "cell_type": "code",
   "execution_count": 5,
   "outputs": [
    {
     "name": "stdout",
     "output_type": "stream",
     "text": [
      "6 0\n"
     ]
    }
   ],
   "source": [
    "bearing_life_count = [len(bearing1_life), len(bearing2_life), len(bearing3_life)]\n",
    "\n",
    "maxlen = max(bearing_life_count)\n",
    "two_down = 0\n",
    "three_down = 0\n",
    "try:\n",
    "    for i in range(maxlen):\n",
    "        if (bearing1_life[i] == bearing2_life[i] == bearing3_life[i]):\n",
    "            three_down += 1\n",
    "        elif (bearing1_life[i] == bearing2_life[i] or bearing2_life[i] == bearing3_life[i] or bearing3_life[i] ==\n",
    "              bearing1_life[i]):\n",
    "            two_down += 1\n",
    "except:\n",
    "    pass\n",
    "\n",
    "print(two_down, three_down)"
   ],
   "metadata": {
    "collapsed": false,
    "ExecuteTime": {
     "end_time": "2023-08-12T09:57:40.000980400Z",
     "start_time": "2023-08-12T09:57:39.986773400Z"
    }
   }
  },
  {
   "cell_type": "code",
   "execution_count": 6,
   "outputs": [
    {
     "data": {
      "text/plain": "2456.6666666666665"
     },
     "execution_count": 6,
     "metadata": {},
     "output_type": "execute_result"
    }
   ],
   "source": [
    "total_cost = 0\n",
    "total_bearing_cost = 0\n",
    "total_delay_cost = 0\n",
    "total_repair_cost = 0\n",
    "\n",
    "num_of_bearing = sum(bearing_life_count)\n",
    "total_bearing_cost = num_of_bearing * 20\n",
    "\n",
    "mechanic_delay = []\n",
    "num_of_mechanic_call = num_of_bearing - two_down - (three_down * 2)\n",
    "for i in range(num_of_mechanic_call):\n",
    "    x = late()\n",
    "    mechanic_delay.append(x)\n",
    "total_delay_cost = sum(mechanic_delay) * 5\n",
    "\n",
    "time_needed = (num_of_bearing * 20) - (two_down * 10) - (three_down * 20)\n",
    "total_repair_cost = (time_needed / 60) * 25\n",
    "\n",
    "total_cost = total_bearing_cost + total_delay_cost + total_repair_cost\n",
    "\n",
    "total_cost"
   ],
   "metadata": {
    "collapsed": false,
    "ExecuteTime": {
     "end_time": "2023-08-12T09:57:40.008237400Z",
     "start_time": "2023-08-12T09:57:39.996981700Z"
    }
   }
  },
  {
   "cell_type": "code",
   "execution_count": 7,
   "outputs": [
    {
     "name": "stdout",
     "output_type": "stream",
     "text": [
      "Previous Cost :  2456.6666666666665\n",
      "New Cost :  1160.0\n",
      "Saves :  1296.6666666666665\n"
     ]
    }
   ],
   "source": [
    "bearing_life = []\n",
    "mechanic_delay_2 = []\n",
    "lf = 0\n",
    "\n",
    "while lf < 20000:\n",
    "    life_of_bearings = [clock(), clock(), clock()]\n",
    "    x = min(life_of_bearings)\n",
    "    y = late()\n",
    "    bearing_life.append(x)\n",
    "    mechanic_delay_2.append(y)\n",
    "    lf += x\n",
    "\n",
    "total_bearing_cost = len(bearing_life) * 20\n",
    "total_delay_cost = sum(mechanic_delay_2) * 5\n",
    "total_repair_cost = ((len(bearing_life) * 40) / 60) * 25\n",
    "\n",
    "total_cost_2 = total_bearing_cost + total_delay_cost + total_repair_cost\n",
    "\n",
    "print(\"Previous Cost : \", total_cost)\n",
    "print(\"New Cost : \", total_cost_2)\n",
    "print(\"Saves : \", total_cost - total_cost_2)"
   ],
   "metadata": {
    "collapsed": false,
    "ExecuteTime": {
     "end_time": "2023-08-12T09:57:40.014948900Z",
     "start_time": "2023-08-12T09:57:40.007235600Z"
    }
   }
  },
  {
   "cell_type": "code",
   "execution_count": 7,
   "outputs": [],
   "source": [],
   "metadata": {
    "collapsed": false,
    "ExecuteTime": {
     "end_time": "2023-08-12T09:57:40.019917800Z",
     "start_time": "2023-08-12T09:57:40.015634300Z"
    }
   }
  },
  {
   "cell_type": "code",
   "execution_count": 7,
   "outputs": [],
   "source": [],
   "metadata": {
    "collapsed": false,
    "ExecuteTime": {
     "end_time": "2023-08-12T09:57:40.021919300Z",
     "start_time": "2023-08-12T09:57:40.019917800Z"
    }
   }
  }
 ],
 "metadata": {
  "kernelspec": {
   "display_name": "Python 3",
   "language": "python",
   "name": "python3"
  },
  "language_info": {
   "codemirror_mode": {
    "name": "ipython",
    "version": 2
   },
   "file_extension": ".py",
   "mimetype": "text/x-python",
   "name": "python",
   "nbconvert_exporter": "python",
   "pygments_lexer": "ipython2",
   "version": "2.7.6"
  }
 },
 "nbformat": 4,
 "nbformat_minor": 0
}
