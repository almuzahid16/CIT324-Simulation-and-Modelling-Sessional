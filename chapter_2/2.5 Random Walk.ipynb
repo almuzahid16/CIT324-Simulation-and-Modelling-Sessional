{
 "cells": [
  {
   "cell_type": "code",
   "execution_count": 3,
   "metadata": {
    "collapsed": true
   },
   "outputs": [],
   "source": [
    "import math\n",
    "import random\n",
    "import matplotlib.pyplot as plt"
   ]
  },
  {
   "cell_type": "code",
   "execution_count": 4,
   "outputs": [
    {
     "data": {
      "text/plain": "<Figure size 640x480 with 1 Axes>",
      "image/png": "[encoded data removed]"
     },
     "metadata": {},
     "output_type": "display_data"
    }
   ],
   "source": [
    "for asa in range(1):\n",
    "    step = 0\n",
    "    x = 0\n",
    "    y = 0\n",
    "    dotx = []\n",
    "    doty = []\n",
    "    direction = []\n",
    "\n",
    "    F_L_R = [0.5, 0.2, 0.2, 0.1]\n",
    "    F_L_R = [int(10 * i) for i in F_L_R]\n",
    "\n",
    "    while step <= 20:\n",
    "\n",
    "        rn = random.randint(0, 9)\n",
    "\n",
    "        if rn in range(F_L_R[0]):\n",
    "            direction.append('F')\n",
    "            y += 1\n",
    "            dotx.append(x)\n",
    "            doty.append(y)\n",
    "        elif rn in range(F_L_R[0], F_L_R[0] + F_L_R[1]):\n",
    "            direction.append('L')\n",
    "            x -= 1\n",
    "            dotx.append(x)\n",
    "            doty.append(y)\n",
    "        elif rn in range(F_L_R[1],F_L_R[0]+ F_L_R[1]+F_L_R[2]):\n",
    "            direction.append('R')\n",
    "            x += 1\n",
    "            dotx.append(x)\n",
    "            doty.append(y)\n",
    "        else:\n",
    "            y -= 1\n",
    "            direction.append('B')\n",
    "            dotx.append(x)\n",
    "            doty.append(y)\n",
    "        step += 1\n",
    "    plt.plot(dotx, doty)\n",
    "plt.show()"
   ],
   "metadata": {
    "collapsed": false
   }
  },
  {
   "cell_type": "code",
   "execution_count": 5,
   "outputs": [
    {
     "data": {
      "text/plain": "['R',\n 'R',\n 'F',\n 'F',\n 'F',\n 'F',\n 'L',\n 'L',\n 'B',\n 'R',\n 'L',\n 'B',\n 'L',\n 'F',\n 'L',\n 'F',\n 'L',\n 'R',\n 'R',\n 'F',\n 'L']"
     },
     "execution_count": 5,
     "metadata": {},
     "output_type": "execute_result"
    }
   ],
   "source": [
    "direction"
   ],
   "metadata": {
    "collapsed": false
   }
  },
  {
   "cell_type": "code",
   "execution_count": 4,
   "outputs": [],
   "source": [],
   "metadata": {
    "collapsed": false
   }
  }
 ],
 "metadata": {
  "kernelspec": {
   "display_name": "Python 3",
   "language": "python",
   "name": "python3"
  },
  "language_info": {
   "codemirror_mode": {
    "name": "ipython",
    "version": 2
   },
   "file_extension": ".py",
   "mimetype": "text/x-python",
   "name": "python",
   "nbconvert_exporter": "python",
   "pygments_lexer": "ipython2",
   "version": "2.7.6"
  }
 },
 "nbformat": 4,
 "nbformat_minor": 0
}
