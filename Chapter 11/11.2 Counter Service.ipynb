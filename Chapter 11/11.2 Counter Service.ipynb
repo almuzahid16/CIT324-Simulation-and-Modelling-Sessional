{
 "cells": [
  {
   "cell_type": "code",
   "execution_count": 1,
   "metadata": {
    "collapsed": true,
    "ExecuteTime": {
     "end_time": "2023-08-12T18:56:44.140007Z",
     "start_time": "2023-08-12T18:56:44.137107600Z"
    }
   },
   "outputs": [],
   "source": [
    "import random"
   ]
  },
  {
   "cell_type": "code",
   "execution_count": 2,
   "outputs": [],
   "source": [
    "iat = [0.0, 0.5, 1.0, 1.5, 2.0, 2.5, 3.0]\n",
    "iat_frequency = [5, 35, 25, 15, 10, 7, 3]\n",
    "st = [1, 2, 3, 4, 5]\n",
    "st_frequency = [5, 25, 35, 20, 15]\n",
    "\n",
    "cumulative_probability_iat = [0]\n",
    "for i in range(len(iat_frequency)):\n",
    "    cumulative_probability_iat.append(cumulative_probability_iat[i] + iat_frequency[i])\n",
    "\n",
    "cumulative_probability_st = [0]\n",
    "for i in range(len(st_frequency)):\n",
    "    cumulative_probability_st.append(cumulative_probability_st[i] + st_frequency[i])"
   ],
   "metadata": {
    "collapsed": false,
    "ExecuteTime": {
     "end_time": "2023-08-12T18:56:44.149181600Z",
     "start_time": "2023-08-12T18:56:44.141009800Z"
    }
   }
  },
  {
   "cell_type": "code",
   "execution_count": 3,
   "outputs": [
    {
     "name": "stdout",
     "output_type": "stream",
     "text": [
      "342270589.0\n",
      "Number of Counter =  1  Average waiting time =  17113.52945\n",
      "21045216.0\n",
      "Number of Counter =  2  Average waiting time =  1052.2608\n",
      "0\n",
      "Number of Counter =  3  Average waiting time =  0.0\n",
      "0\n",
      "Number of Counter =  4  Average waiting time =  0.0\n"
     ]
    }
   ],
   "source": [
    "counter = 4\n",
    "num_customer = 20000\n",
    "waiting_time = 0\n",
    "\n",
    "for num_counter in range(1, counter + 1):\n",
    "    se = [0.0] * num_counter\n",
    "    next_arrival_time = 0.0\n",
    "    waiting_time = 0\n",
    "\n",
    "    for i in range(num_customer):\n",
    "\n",
    "        inter_arrival_time = 0\n",
    "        service_time = 0\n",
    "        wt = 0\n",
    "\n",
    "        rn = random.randint(1, 100)\n",
    "        for i in range(len(cumulative_probability_iat) - 1):\n",
    "            if cumulative_probability_iat[i] > rn and rn <= cumulative_probability_iat[i + 1]:\n",
    "                inter_arrival_time = iat[i]\n",
    "                break\n",
    "\n",
    "        rn = random.randint(1, 100)\n",
    "        for i in range(len(cumulative_probability_st) - 1):\n",
    "            if cumulative_probability_st[i] > rn and rn <= cumulative_probability_st[i + 1]:\n",
    "                service_time = st[i]\n",
    "                break\n",
    "\n",
    "        next_arrival_time += inter_arrival_time\n",
    "\n",
    "        min_counter = se.index(min(se))\n",
    "\n",
    "        if next_arrival_time <= se[min_counter]:\n",
    "            se[min_counter] += service_time\n",
    "            wt = se[min_counter] - next_arrival_time\n",
    "\n",
    "        else:\n",
    "            se[min_counter] += service_time\n",
    "        waiting_time += wt\n",
    "\n",
    "    print(waiting_time)\n",
    "    print(\"Number of Counter = \", num_counter, \" Average waiting time = \", waiting_time / num_customer)"
   ],
   "metadata": {
    "collapsed": false,
    "ExecuteTime": {
     "end_time": "2023-08-12T18:56:44.440866800Z",
     "start_time": "2023-08-12T18:56:44.154182300Z"
    }
   }
  },
  {
   "cell_type": "code",
   "execution_count": 3,
   "outputs": [],
   "source": [],
   "metadata": {
    "collapsed": false,
    "ExecuteTime": {
     "end_time": "2023-08-12T18:56:44.444132700Z",
     "start_time": "2023-08-12T18:56:44.442131100Z"
    }
   }
  }
 ],
 "metadata": {
  "kernelspec": {
   "display_name": "Python 3",
   "language": "python",
   "name": "python3"
  },
  "language_info": {
   "codemirror_mode": {
    "name": "ipython",
    "version": 2
   },
   "file_extension": ".py",
   "mimetype": "text/x-python",
   "name": "python",
   "nbconvert_exporter": "python",
   "pygments_lexer": "ipython2",
   "version": "2.7.6"
  }
 },
 "nbformat": 4,
 "nbformat_minor": 0
}
