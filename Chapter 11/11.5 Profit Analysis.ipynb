{
 "cells": [
  {
   "cell_type": "code",
   "execution_count": 16,
   "metadata": {
    "collapsed": true,
    "ExecuteTime": {
     "end_time": "2023-08-12T19:23:47.525305700Z",
     "start_time": "2023-08-12T19:23:47.515923600Z"
    }
   },
   "outputs": [
    {
     "name": "stdout",
     "output_type": "stream",
     "text": [
      "[-11252.84, -10365.1, -8953.47, -8730.72, -8592.28, -8534.56, -7042.68, -5721.96, -5503.2, -3672.3, -3508.09, -3164.73, -2495.85, -2465.82, -2084.1, 344.13, 1865.7, 4698.19, 5470.08, 5563.61, 5797.0, 7633.65, 8019.88, 8583.06, 9123.78, 9669.3, 10414.96, 12086.0, 13508.82, 19992.26]\n",
      "12\n"
     ]
    }
   ],
   "source": [
    "import random\n",
    "\n",
    "n = 30\n",
    "sp = 10\n",
    "fc = 60000\n",
    "profit_lst = []\n",
    "for i in range(n):\n",
    "    vc = random.randint(450, 550) / 100\n",
    "    demand = 0\n",
    "    reaction = random.randint(1, 10)\n",
    "    if reaction <= 6:\n",
    "        demand = random.randint(10000, 12000)\n",
    "    else:\n",
    "        demand = random.randint(13000, 15000)\n",
    "    profit = round(demand * (sp - vc) - fc, 2)\n",
    "    profit_lst.append(profit)\n",
    "\n",
    "profit_lst.sort()\n",
    "print(profit_lst)\n",
    "\n",
    "count = 0\n",
    "for i in profit_lst:\n",
    "    if i > 5000:\n",
    "        count += 1\n",
    "\n",
    "print(count)"
   ]
  }
 ],
 "metadata": {
  "kernelspec": {
   "display_name": "Python 3",
   "language": "python",
   "name": "python3"
  },
  "language_info": {
   "codemirror_mode": {
    "name": "ipython",
    "version": 2
   },
   "file_extension": ".py",
   "mimetype": "text/x-python",
   "name": "python",
   "nbconvert_exporter": "python",
   "pygments_lexer": "ipython2",
   "version": "2.7.6"
  }
 },
 "nbformat": 4,
 "nbformat_minor": 0
}
