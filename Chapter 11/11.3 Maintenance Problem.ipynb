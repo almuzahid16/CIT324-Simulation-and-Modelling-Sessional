{
 "cells": [
  {
   "cell_type": "code",
   "execution_count": 4,
   "metadata": {
    "collapsed": true,
    "ExecuteTime": {
     "end_time": "2023-08-12T19:04:05.440629100Z",
     "start_time": "2023-08-12T19:04:05.432296700Z"
    }
   },
   "outputs": [],
   "source": [
    "import random\n",
    "\n",
    "def policy_one(life):\n",
    "    num_of_shut = 0\n",
    "\n",
    "    for i in range(4):\n",
    "        t = 0\n",
    "        while t < life:\n",
    "            lf = random.randint(1000, 2000)\n",
    "            t += lf\n",
    "            num_of_shut += 1\n",
    "\n",
    "    tube_cost = num_of_shut * 100\n",
    "    shut_cost = num_of_shut * 200\n",
    "    return tube_cost + shut_cost"
   ]
  },
  {
   "cell_type": "code",
   "execution_count": 5,
   "outputs": [],
   "source": [
    "def policy_two(life):\n",
    "    t = 0\n",
    "    num_of_shut = 0\n",
    "\n",
    "    while t < life:\n",
    "        lf = [random.randint(1000, 2000), random.randint(1000, 2000), random.randint(1000, 2000),\n",
    "              random.randint(1000, 2000)]\n",
    "        cl = min(lf)\n",
    "        t += cl\n",
    "        num_of_shut += 1\n",
    "\n",
    "    tube_cost = num_of_shut * 4 * 100\n",
    "    shut_cost = num_of_shut * 2 * 200\n",
    "    return tube_cost + shut_cost"
   ],
   "metadata": {
    "collapsed": false,
    "ExecuteTime": {
     "end_time": "2023-08-12T19:04:05.444683Z",
     "start_time": "2023-08-12T19:04:05.439626500Z"
    }
   }
  },
  {
   "cell_type": "code",
   "execution_count": 6,
   "outputs": [
    {
     "name": "stdout",
     "output_type": "stream",
     "text": [
      "9000\n",
      "7200\n"
     ]
    }
   ],
   "source": [
    "print(policy_one(10000))\n",
    "print(policy_two(10000))"
   ],
   "metadata": {
    "collapsed": false,
    "ExecuteTime": {
     "end_time": "2023-08-12T19:04:05.456967100Z",
     "start_time": "2023-08-12T19:04:05.446681400Z"
    }
   }
  }
 ],
 "metadata": {
  "kernelspec": {
   "display_name": "Python 3",
   "language": "python",
   "name": "python3"
  },
  "language_info": {
   "codemirror_mode": {
    "name": "ipython",
    "version": 2
   },
   "file_extension": ".py",
   "mimetype": "text/x-python",
   "name": "python",
   "nbconvert_exporter": "python",
   "pygments_lexer": "ipython2",
   "version": "2.7.6"
  }
 },
 "nbformat": 4,
 "nbformat_minor": 0
}
