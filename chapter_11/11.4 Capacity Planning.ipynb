{
 "cells": [
  {
   "cell_type": "code",
   "execution_count": 319,
   "metadata": {
    "collapsed": true,
    "ExecuteTime": {
     "end_time": "2023-08-12T11:54:23.691688700Z",
     "start_time": "2023-08-12T11:54:23.688687500Z"
    }
   },
   "outputs": [],
   "source": [
    "import random\n",
    "import matplotlib.pyplot as plt\n",
    "\n",
    "cumulative_frequency = [0, 5, 11, 21, 35, 51, 67, 80, 90, 97, 100]\n",
    "hours = [0, 5, 10, 15, 20, 25, 30, 35, 40, 45, 50]"
   ]
  },
  {
   "cell_type": "code",
   "execution_count": 320,
   "outputs": [
    {
     "name": "stdout",
     "output_type": "stream",
     "text": [
      "[108, 192, 270, 175, 40, 141, 21, 192, 137, 53, 191, 152, 115, 57, 87, 34, 76, 108, 177, 172]\n",
      "124.9\n"
     ]
    }
   ],
   "source": [
    "days = 20\n",
    "\n",
    "task = []\n",
    "\n",
    "for day in range(days):\n",
    "    machine_use = 0\n",
    "    num_of_order = random.randint(1, 10)\n",
    "\n",
    "    for order in range(num_of_order):\n",
    "        order_life = 0\n",
    "        rn = random.randint(1, 100)\n",
    "\n",
    "        for i in range(len(cumulative_frequency) - 1):\n",
    "            if cumulative_frequency[i] < rn <= cumulative_frequency[i + 1]:\n",
    "                order_life = random.randint(hours[i] + 1, hours[i + 1])\n",
    "                machine_use += order_life\n",
    "\n",
    "    task.append(machine_use)\n",
    "\n",
    "avg = sum(task) / 20\n",
    "print(task)\n",
    "print(avg)"
   ],
   "metadata": {
    "collapsed": false,
    "ExecuteTime": {
     "end_time": "2023-08-12T11:54:23.699762500Z",
     "start_time": "2023-08-12T11:54:23.694688500Z"
    }
   }
  },
  {
   "cell_type": "code",
   "execution_count": 321,
   "outputs": [
    {
     "name": "stdout",
     "output_type": "stream",
     "text": [
      "Cost : 50825  for load:  24\n",
      "Cost : 45075  for load:  44\n",
      "Cost : 44825  for load:  64\n",
      "Cost : 48325  for load:  84\n",
      "Cost : 55450  for load:  104\n",
      "Cost : 68075  for load:  124\n",
      "Cost : 84325  for load:  144\n",
      "Cost : 105825  for load:  164\n",
      "Cost : 131825  for load:  184\n",
      "Cost : 166450  for load:  204\n"
     ]
    },
    {
     "data": {
      "text/plain": "<Figure size 640x480 with 1 Axes>",
      "image/png": "[encoded data removed]"
     },
     "metadata": {},
     "output_type": "display_data"
    }
   ],
   "source": [
    "cost = []\n",
    "load = []\n",
    "\n",
    "for i in range(int(avg - 100), int(avg + 100), 20):\n",
    "    delay = []\n",
    "    idle = 0\n",
    "    left = 0\n",
    "    for t in task:\n",
    "        t += left\n",
    "        if t < i:\n",
    "            idle += i - t\n",
    "        else:\n",
    "            delay.append(t - i)\n",
    "    delay_cost = sum(delay) * 25\n",
    "    idle_cost = idle * 100\n",
    "    cost.append((delay_cost + idle_cost))\n",
    "    load.append(i)\n",
    "    print(\"Cost :\", delay_cost + idle_cost, \" for load: \", i)\n",
    "\n",
    "plt.scatter(load, cost)"
   ],
   "metadata": {
    "collapsed": false,
    "ExecuteTime": {
     "end_time": "2023-08-12T11:54:23.836553200Z",
     "start_time": "2023-08-12T11:54:23.699762500Z"
    }
   }
  }
 ],
 "metadata": {
  "kernelspec": {
   "display_name": "Python 3",
   "language": "python",
   "name": "python3"
  },
  "language_info": {
   "codemirror_mode": {
    "name": "ipython",
    "version": 2
   },
   "file_extension": ".py",
   "mimetype": "text/x-python",
   "name": "python",
   "nbconvert_exporter": "python",
   "pygments_lexer": "ipython2",
   "version": "2.7.6"
  }
 },
 "nbformat": 4,
 "nbformat_minor": 0
}
