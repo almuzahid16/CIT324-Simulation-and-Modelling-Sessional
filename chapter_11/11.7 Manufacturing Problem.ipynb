{
 "cells": [
  {
   "cell_type": "code",
   "execution_count": 137,
   "metadata": {
    "collapsed": true,
    "ExecuteTime": {
     "end_time": "2023-08-12T18:29:52.666856900Z",
     "start_time": "2023-08-12T18:29:52.658851900Z"
    }
   },
   "outputs": [],
   "source": [
    "shear = True\n",
    "punch = True\n",
    "form = True\n",
    "bend = True\n",
    "buffer = [0, 0, 0]\n",
    "buffer_size = 1\n",
    "processed = 0\n",
    "die_change = [500, 400, 750, 600]"
   ]
  },
  {
   "cell_type": "code",
   "execution_count": 138,
   "outputs": [
    {
     "name": "stdout",
     "output_type": "stream",
     "text": [
      "100\n"
     ]
    }
   ],
   "source": [
    "simulation = 100\n",
    "t = 0\n",
    "shear_cnt = 0\n",
    "shear_rst = 0\n",
    "punch_cnt = 0\n",
    "punch_rst = 0\n",
    "form_cnt = 0\n",
    "form_rst = 0\n",
    "bend_cnt = 0\n",
    "bend_rst = 0\n",
    "\n",
    "while t < simulation:\n",
    "    t += 1\n",
    "    if shear:\n",
    "        buffer[0] += min(4.5, buffer_size)\n",
    "        shear_cnt += buffer[0]\n",
    "\n",
    "    if shear_cnt >= die_change[0]:\n",
    "        shear = False\n",
    "        shear_rst = 25\n",
    "    shear_rst -= 1\n",
    "\n",
    "    if shear == False and shear_rst == 0:\n",
    "        shear = True\n",
    "\n",
    "    if punch and buffer[0] > 0:\n",
    "        buffer[1] += min(5.5, buffer[0])\n",
    "        buffer[0] = max(0, buffer[0] - buffer[1])\n",
    "        punch_cnt += buffer[1]\n",
    "\n",
    "    if punch_cnt >= die_change[1]:\n",
    "        punch = False\n",
    "        punch_rst = 25\n",
    "    punch_rst -= 1\n",
    "\n",
    "    if shear == False and punch_rst == 0:\n",
    "        punch = True\n",
    "\n",
    "    if form and buffer[1] > 0:\n",
    "        buffer[2] += min(3.8, buffer[1])\n",
    "        buffer[1] = max(0, buffer[1] - buffer[2])\n",
    "\n",
    "        form_cnt += buffer[2]\n",
    "\n",
    "    if form_cnt >= die_change[2]:\n",
    "        form = False\n",
    "        form_rst = 25\n",
    "    form_rst -= 1\n",
    "\n",
    "    if form == False and form_rst == 0:\n",
    "        form = True\n",
    "\n",
    "    if bend and buffer[2] > 0:\n",
    "        processed += min(3.2, buffer[2])\n",
    "        buffer[2] = max(0, buffer[2] - processed)\n",
    "        bend_cnt += processed\n",
    "\n",
    "    if bend_cnt >= die_change[3]:\n",
    "        bend = False\n",
    "        bend_rst = 25\n",
    "\n",
    "    bend_rst -= 1\n",
    "\n",
    "    if bend == False and bend_rst <= 0:\n",
    "        bend = True\n",
    "print(processed)"
   ],
   "metadata": {
    "collapsed": false,
    "ExecuteTime": {
     "end_time": "2023-08-12T18:29:52.683262700Z",
     "start_time": "2023-08-12T18:29:52.667853800Z"
    }
   }
  }
 ],
 "metadata": {
  "kernelspec": {
   "display_name": "Python 3",
   "language": "python",
   "name": "python3"
  },
  "language_info": {
   "codemirror_mode": {
    "name": "ipython",
    "version": 2
   },
   "file_extension": ".py",
   "mimetype": "text/x-python",
   "name": "python",
   "nbconvert_exporter": "python",
   "pygments_lexer": "ipython2",
   "version": "2.7.6"
  }
 },
 "nbformat": 4,
 "nbformat_minor": 0
}
