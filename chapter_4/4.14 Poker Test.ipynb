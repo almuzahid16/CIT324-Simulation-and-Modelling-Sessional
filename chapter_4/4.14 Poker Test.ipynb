{
 "cells": [
  {
   "cell_type": "code",
   "execution_count": 56,
   "metadata": {
    "collapsed": true,
    "ExecuteTime": {
     "end_time": "2023-08-12T09:48:38.686768300Z",
     "start_time": "2023-08-12T09:48:36.285058Z"
    }
   },
   "outputs": [],
   "source": [
    "import math\n",
    "import random\n",
    "\n",
    "n = int(input())\n",
    "\n",
    "p_four_different_digit = (10 / 10) * (9 / 10) * (8 / 10) * (7 / 10) * n\n",
    "p_three_equal_digit = (10 / 10) * (1 / 10) * (1 / 10) * (9 / 10) * n\n",
    "p_all_digit_equal = (10 / 10) * (1 / 10) * (1 / 10) * (1 / 10) * n\n",
    "p_one_pair = math.comb(4, 2) * (10 / 10) * (1 / 10) * (9 / 10) * (8 / 10) * n\n",
    "p_two_pair = math.comb(4, 2) * (10 / 10) * (1 / 10) * (9 / 10) * (1 / 10) * n\n",
    "\n",
    "four_different_digit = 0\n",
    "three_equal_digit = 0\n",
    "all_digit_equal = 0\n",
    "one_pair = 0\n",
    "two_pair = 0"
   ]
  },
  {
   "cell_type": "code",
   "execution_count": 57,
   "outputs": [
    {
     "name": "stdout",
     "output_type": "stream",
     "text": [
      "0 5 52 38 5\n"
     ]
    }
   ],
   "source": [
    "for i in range(n):\n",
    "    rn = random.randint(1000, 9999)\n",
    "    lst = list(str(rn))\n",
    "    lst.sort()\n",
    "    count = 1\n",
    "\n",
    "    for i in range(4 - 1):\n",
    "        if lst[i] == lst[i + 1]:\n",
    "            count += 1\n",
    "\n",
    "    if count == 4:\n",
    "        all_digit_equal += 1\n",
    "    elif count == 2:\n",
    "        one_pair += 1\n",
    "    elif count == 1:\n",
    "        four_different_digit += 1\n",
    "    else:\n",
    "        if lst[1] == lst[2]:\n",
    "            three_equal_digit += 1\n",
    "        else:\n",
    "            two_pair += 1\n",
    "\n",
    "print(all_digit_equal,three_equal_digit,four_different_digit,one_pair,two_pair)"
   ],
   "metadata": {
    "collapsed": false,
    "ExecuteTime": {
     "end_time": "2023-08-12T09:48:38.686768300Z",
     "start_time": "2023-08-12T09:48:38.664896300Z"
    }
   }
  },
  {
   "cell_type": "code",
   "execution_count": 58,
   "outputs": [
    {
     "name": "stdout",
     "output_type": "stream",
     "text": [
      "19.48412698412698\n"
     ]
    }
   ],
   "source": [
    "\n",
    "res1 = abs(four_different_digit - p_four_different_digit) ** 2 / p_four_different_digit\n",
    "res2 = abs(three_equal_digit - p_three_equal_digit) ** 2 / p_three_equal_digit\n",
    "res3 = abs(all_digit_equal - p_all_digit_equal) ** 2 / p_all_digit_equal\n",
    "res4 = abs(one_pair - p_one_pair) ** 2 / p_one_pair\n",
    "res5 = abs(two_pair - p_two_pair) ** 2 / p_two_pair\n",
    "\n",
    "print(res1 + res2 + res3 + res4 + res5)"
   ],
   "metadata": {
    "collapsed": false,
    "ExecuteTime": {
     "end_time": "2023-08-12T09:48:38.688769900Z",
     "start_time": "2023-08-12T09:48:38.671728400Z"
    }
   }
  }
 ],
 "metadata": {
  "kernelspec": {
   "display_name": "Python 3",
   "language": "python",
   "name": "python3"
  },
  "language_info": {
   "codemirror_mode": {
    "name": "ipython",
    "version": 2
   },
   "file_extension": ".py",
   "mimetype": "text/x-python",
   "name": "python",
   "nbconvert_exporter": "python",
   "pygments_lexer": "ipython2",
   "version": "2.7.6"
  }
 },
 "nbformat": 4,
 "nbformat_minor": 0
}
