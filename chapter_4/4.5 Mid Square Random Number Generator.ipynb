{
 "cells": [
  {
   "cell_type": "code",
   "execution_count": 3,
   "metadata": {
    "collapsed": true
   },
   "outputs": [
    {
     "data": {
      "text/plain": "[48, 30, 90, 10, 10, 10, 10, 10, 10, 10]"
     },
     "execution_count": 3,
     "metadata": {},
     "output_type": "execute_result"
    }
   ],
   "source": [
    "n = 10\n",
    "seed = 5673\n",
    "\n",
    "var = int(len(str(seed))/2)\n",
    "\n",
    "rn = []\n",
    "\n",
    "for i in range(n):\n",
    "    x = seed ** 2\n",
    "    st = str(x)\n",
    "    dig = int((len(st)) / 2)\n",
    "    r = st[dig - var : dig + var]\n",
    "    seed = int(r)\n",
    "    rn.append(seed)\n",
    "rn"
   ]
  },
  {
   "cell_type": "code",
   "execution_count": 3,
   "outputs": [],
   "source": [],
   "metadata": {
    "collapsed": false
   }
  }
 ],
 "metadata": {
  "kernelspec": {
   "display_name": "Python 3",
   "language": "python",
   "name": "python3"
  },
  "language_info": {
   "codemirror_mode": {
    "name": "ipython",
    "version": 2
   },
   "file_extension": ".py",
   "mimetype": "text/x-python",
   "name": "python",
   "nbconvert_exporter": "python",
   "pygments_lexer": "ipython2",
   "version": "2.7.6"
  }
 },
 "nbformat": 4,
 "nbformat_minor": 0
}
