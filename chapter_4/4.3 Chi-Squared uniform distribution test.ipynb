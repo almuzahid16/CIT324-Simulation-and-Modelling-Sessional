{
 "cells": [
  {
   "cell_type": "code",
   "execution_count": 1,
   "metadata": {
    "collapsed": true,
    "ExecuteTime": {
     "end_time": "2023-08-12T06:51:12.874586600Z",
     "start_time": "2023-08-12T06:51:12.778838300Z"
    }
   },
   "outputs": [
    {
     "name": "stdout",
     "output_type": "stream",
     "text": [
      "[60, 5, 66, 83, 13, 73, 77, 32, 29, 87, 65, 70, 38, 10, 34, 55, 37, 94, 59, 89, 91, 20, 67, 96, 85, 39, 23, 9, 21, 80, 71, 51, 82, 0, 1, 14, 86, 52, 95, 72, 64, 57, 63, 44, 88, 78, 45, 4, 53, 11, 47, 30, 3, 40, 36, 81, 84, 26, 48, 43, 75, 6, 79, 58, 76, 19, 54, 24, 22, 93, 46, 17, 28, 74, 90, 7, 92, 33, 42, 62, 31, 16, 15, 2, 27, 61, 18, 41, 49, 56, 50, 69, 25, 35, 68, 12, 60, 5, 66, 83]\n"
     ]
    },
    {
     "data": {
      "text/plain": "100"
     },
     "execution_count": 1,
     "metadata": {},
     "output_type": "execute_result"
    }
   ],
   "source": [
    "from scipy.stats import chi2\n",
    "\n",
    "ri = [12]\n",
    "a = 13\n",
    "b = 1\n",
    "m = 97\n",
    "n = 100\n",
    "\n",
    "i = 1\n",
    "while i <= n:\n",
    "    rn = ((a * ri[i - 1]) + b) % m\n",
    "    ri.append(rn)\n",
    "    i += 1\n",
    "\n",
    "ri = ri[1:]\n",
    "print(ri)\n",
    "len(ri)"
   ]
  },
  {
   "cell_type": "code",
   "execution_count": 2,
   "outputs": [
    {
     "data": {
      "text/plain": "[0, 10, 20, 30, 40, 50, 60, 70, 80, 90, 100]"
     },
     "execution_count": 2,
     "metadata": {},
     "output_type": "execute_result"
    }
   ],
   "source": [
    "cls = []\n",
    "i = 0\n",
    "while i <= n:\n",
    "    cls.append(i)\n",
    "    i += 10\n",
    "cls"
   ],
   "metadata": {
    "collapsed": false,
    "ExecuteTime": {
     "end_time": "2023-08-12T06:51:12.876584700Z",
     "start_time": "2023-08-12T06:51:12.795600200Z"
    }
   }
  },
  {
   "cell_type": "code",
   "execution_count": 3,
   "outputs": [
    {
     "data": {
      "text/plain": "[10, 10, 10, 10, 10, 11, 11, 10, 11, 6]"
     },
     "execution_count": 3,
     "metadata": {},
     "output_type": "execute_result"
    }
   ],
   "source": [
    "frequency = [0] * 10\n",
    "\n",
    "for i in ri:\n",
    "    for j in range(len(cls) - 1):\n",
    "        if i > cls[j] and i <= cls[j + 1]:\n",
    "            frequency[j] += 1\n",
    "frequency"
   ],
   "metadata": {
    "collapsed": false,
    "ExecuteTime": {
     "end_time": "2023-08-12T06:51:12.877584900Z",
     "start_time": "2023-08-12T06:51:12.805870900Z"
    }
   }
  },
  {
   "cell_type": "code",
   "execution_count": 4,
   "outputs": [],
   "source": [
    "dif_sq = 0\n",
    "\n",
    "for i in frequency:\n",
    "    x = abs(i - 10)\n",
    "    x = x * x\n",
    "    dif_sq += x"
   ],
   "metadata": {
    "collapsed": false,
    "ExecuteTime": {
     "end_time": "2023-08-12T06:51:12.878587Z",
     "start_time": "2023-08-12T06:51:12.814475300Z"
    }
   }
  },
  {
   "cell_type": "code",
   "execution_count": 5,
   "outputs": [
    {
     "data": {
      "text/plain": "1.9"
     },
     "execution_count": 5,
     "metadata": {},
     "output_type": "execute_result"
    }
   ],
   "source": [
    "chi_sqr = dif_sq / 10\n",
    "chi_sqr"
   ],
   "metadata": {
    "collapsed": false,
    "ExecuteTime": {
     "end_time": "2023-08-12T06:51:12.886586600Z",
     "start_time": "2023-08-12T06:51:12.822962900Z"
    }
   }
  },
  {
   "cell_type": "code",
   "execution_count": 6,
   "outputs": [
    {
     "name": "stdout",
     "output_type": "stream",
     "text": [
      "16.918977604620448\n",
      "accept\n"
     ]
    }
   ],
   "source": [
    "df = 10 - 1\n",
    "alpha = 0.05\n",
    "critical_value = chi2.ppf(1 - alpha, df)\n",
    "\n",
    "if chi_sqr < critical_value:\n",
    "    print(\"accept\")\n",
    "else:\n",
    "    print(\"rejerct\")"
   ],
   "metadata": {
    "collapsed": false,
    "ExecuteTime": {
     "end_time": "2023-08-12T06:51:15.463421300Z",
     "start_time": "2023-08-12T06:51:12.843584300Z"
    }
   }
  }
 ],
 "metadata": {
  "kernelspec": {
   "display_name": "Python 3",
   "language": "python",
   "name": "python3"
  },
  "language_info": {
   "codemirror_mode": {
    "name": "ipython",
    "version": 2
   },
   "file_extension": ".py",
   "mimetype": "text/x-python",
   "name": "python",
   "nbconvert_exporter": "python",
   "pygments_lexer": "ipython2",
   "version": "2.7.6"
  }
 },
 "nbformat": 4,
 "nbformat_minor": 0
}
