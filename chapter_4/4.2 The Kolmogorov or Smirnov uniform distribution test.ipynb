{
 "cells": [
  {
   "cell_type": "code",
   "execution_count": 1,
   "outputs": [],
   "source": [
    "n = 10"
   ],
   "metadata": {
    "collapsed": false
   }
  },
  {
   "cell_type": "code",
   "execution_count": 2,
   "outputs": [
    {
     "name": "stdout",
     "output_type": "stream",
     "text": [
      "[0.05, 0.13, 0.29, 0.32, 0.6, 0.66, 0.73, 0.77, 0.83, 0.87]\n"
     ]
    }
   ],
   "source": [
    "ri = [12]\n",
    "a = 13\n",
    "b = 1\n",
    "m = 97\n",
    "\n",
    "i = 1\n",
    "while i <= 10:\n",
    "    rn = ((a * ri[i - 1]) + b) % m\n",
    "    ri.append(rn)\n",
    "    i += 1\n",
    "\n",
    "for i in range(n + 1):\n",
    "    ri[i] = ri[i] / 100\n",
    "ri = ri[1:]\n",
    "\n",
    "ri.sort()\n",
    "print(ri)"
   ],
   "metadata": {
    "collapsed": false
   }
  },
  {
   "cell_type": "code",
   "execution_count": 3,
   "outputs": [
    {
     "data": {
      "text/plain": "[0.1, 0.2, 0.3, 0.4, 0.5, 0.6, 0.7, 0.8, 0.9, 1.0]"
     },
     "execution_count": 3,
     "metadata": {},
     "output_type": "execute_result"
    }
   ],
   "source": [
    "one_by_n = []\n",
    "\n",
    "i = 1\n",
    "while i <= n:\n",
    "    one_by_n.append(i / n)\n",
    "    i += 1\n",
    "one_by_n"
   ],
   "metadata": {
    "collapsed": false
   }
  },
  {
   "cell_type": "code",
   "execution_count": 4,
   "outputs": [
    {
     "data": {
      "text/plain": "0.13"
     },
     "execution_count": 4,
     "metadata": {},
     "output_type": "execute_result"
    }
   ],
   "source": [
    "one_by_n_sub_ri = []\n",
    "\n",
    "for i in range(n):\n",
    "    one_by_n_sub_ri.append(one_by_n[i] - ri[i])\n",
    "\n",
    "positived = max(one_by_n_sub_ri)\n",
    "positived"
   ],
   "metadata": {
    "collapsed": false
   }
  },
  {
   "cell_type": "code",
   "execution_count": 5,
   "outputs": [
    {
     "data": {
      "text/plain": "0.19999999999999996"
     },
     "execution_count": 5,
     "metadata": {},
     "output_type": "execute_result"
    }
   ],
   "source": [
    "ri_sub_i_sub_1_div_n = ri.copy()\n",
    "\n",
    "i = 1\n",
    "while i < n:\n",
    "    ri_sub_i_sub_1_div_n[i] = ri_sub_i_sub_1_div_n[i] - one_by_n[i - 1]\n",
    "    i += 1\n",
    "\n",
    "negatived = max(ri_sub_i_sub_1_div_n)\n",
    "negatived"
   ],
   "metadata": {
    "collapsed": false
   }
  },
  {
   "cell_type": "code",
   "execution_count": 6,
   "outputs": [
    {
     "name": "stdout",
     "output_type": "stream",
     "text": [
      "Positive deviation  0.13 Negative deviation  0.19999999999999996\n",
      "Longest Deviation 0.19999999999999996\n",
      "99%\n"
     ]
    }
   ],
   "source": [
    "print(\"Positive deviation \",positived,\"Negative deviation \", negatived)\n",
    "\n",
    "longest_dev = max(positived, negatived)\n",
    "\n",
    "print(\"Longest Deviation\", longest_dev)\n",
    "\n",
    "if longest_dev < 0.368:\n",
    "    print(\"99%\")\n",
    "elif longest_dev < 0.410:\n",
    "    print(\"95%\")\n",
    "else:\n",
    "    print(\"Failed\")"
   ],
   "metadata": {
    "collapsed": false
   }
  }
 ],
 "metadata": {
  "kernelspec": {
   "display_name": "Python 3",
   "language": "python",
   "name": "python3"
  },
  "language_info": {
   "codemirror_mode": {
    "name": "ipython",
    "version": 2
   },
   "file_extension": ".py",
   "mimetype": "text/x-python",
   "name": "python",
   "nbconvert_exporter": "python",
   "pygments_lexer": "ipython2",
   "version": "2.7.6"
  }
 },
 "nbformat": 4,
 "nbformat_minor": 0
}
