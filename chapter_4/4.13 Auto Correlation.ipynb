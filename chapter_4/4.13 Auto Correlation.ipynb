{
 "cells": [
  {
   "cell_type": "code",
   "execution_count": 1,
   "outputs": [
    {
     "name": "stdout",
     "output_type": "stream",
     "text": [
      "[(49, 95), (95, 82), (82, 19), (19, 41), (41, 31), (31, 12), (12, 53), (53, 62), (62, 40), (40, 87), (87, 83), (83, 26), (26, 1), (1, 91), (91, 55), (55, 38), (38, 75), (75, 90), (90, 35), (35, 71), (71, 57), (57, 27), (27, 85), (85, 52), (52, 8), (8, 35), (35, 57), (57, 88), (88, 38), (38, 77), (77, 86), (86, 29), (29, 18), (18, 9), (9, 96), (96, 58), (58, 22), (22, 8), (8, 93), (93, 85), (85, 45), (45, 79), (79, 68), (68, 20), (20, 11), (11, 78), (78, 93), (93, 21), (21, 13), (13, 6), (6, 32), (32, 63), (63, 79), (79, 54), (54, 67), (67, 35), (35, 18), (18, 81), (81, 40), (40, 62), (62, 13), (13, 76), (76, 74), (74, 76), (76, 45), (45, 29), (29, 36), (36, 80), (80, 78), (78, 95), (95, 25), (25, 52)]\n",
      "72\n",
      "Class Counts: [ 9.  7.  6.  6.  7. 10.  7.  9. 11.]\n",
      "Expected Counts: [8. 8. 8. 8. 8. 8. 8. 8. 8.]\n",
      "Chi-squared statistic: 3.25\n",
      "Critical value for alpha 0.05: 15.507313055865453\n"
     ]
    }
   ],
   "source": [
    "import numpy as np\n",
    "\n",
    "# Random numbers provided\n",
    "random_numbers = [49, 95, 82, 19, 41, 31, 12, 53, 62, 40, 87, 83, 26, 1, 91, 55, 38, 75, 90, 35, 71, 57, 27, 85, 52, 8,\n",
    "                  35, 57, 88, 38, 77, 86, 29, 18, 9, 96, 58, 22, 8, 93, 85, 45, 79, 68, 20, 11, 78, 93, 21, 13, 6, 32,\n",
    "                  63, 79, 54, 67, 35, 18, 81, 40, 62, 13, 76, 74, 76, 45, 29, 36, 80, 78, 95, 25, 52]\n",
    "\n",
    "# Create pairs from the random numbers\n",
    "pairs = []\n",
    "for i in range(0, len(random_numbers) - 1):\n",
    "    pairs.append((random_numbers[i], random_numbers[i + 1]))\n",
    "\n",
    "print(pairs)\n",
    "\n",
    "print(len(pairs))\n",
    "\n",
    "class_counts = np.zeros(9)\n",
    "for pair in pairs:\n",
    "    if pair[0] <= 33 and pair[1] <= 33:\n",
    "        class_counts[0] += 1\n",
    "    elif pair[0] <= 67 and pair[1] <= 33:\n",
    "        class_counts[1] += 1\n",
    "    elif pair[0] <= 100 and pair[1] <= 33:\n",
    "        class_counts[2] += 1\n",
    "    elif pair[0] <= 33 and pair[1] <= 67:\n",
    "        class_counts[3] += 1\n",
    "    elif pair[0] <= 67 and pair[1] <= 67:\n",
    "        class_counts[4] += 1\n",
    "    elif pair[0] <= 100 and pair[1] <= 67:\n",
    "        class_counts[5] += 1\n",
    "    elif pair[0] <= 33 and pair[1] <= 100:\n",
    "        class_counts[6] += 1\n",
    "    elif pair[0] <= 67 and pair[1] <= 100:\n",
    "        class_counts[7] += 1\n",
    "    elif pair[0] <= 100 and pair[1] <= 100:\n",
    "        class_counts[8] += 1\n",
    "\n",
    "# Calculate the expectation of pairs in each class\n",
    "expected_counts = np.full(9, len(pairs) / 9)\n",
    "\n",
    "# Calculate the chi-squared statistic\n",
    "chi2_stat = np.sum((class_counts - expected_counts) ** 2 / expected_counts)\n",
    "\n",
    "# Calculate the degrees of freedom\n",
    "df = len(class_counts) - 1\n",
    "\n",
    "# Calculate the critical value for alpha = 0.05\n",
    "from scipy.stats import chi2\n",
    "\n",
    "alpha = 0.05\n",
    "critical_value = chi2.ppf(1 - alpha, df)\n",
    "\n",
    "# Print the test results\n",
    "print(\"Class Counts:\", class_counts)\n",
    "print(\"Expected Counts:\", expected_counts)\n",
    "print(\"Chi-squared statistic:\", chi2_stat)\n",
    "print(\"Critical value for alpha 0.05:\", critical_value)"
   ],
   "metadata": {
    "collapsed": false,
    "ExecuteTime": {
     "end_time": "2023-08-12T09:51:05.332664Z",
     "start_time": "2023-08-12T09:51:02.844139400Z"
    }
   }
  }
 ],
 "metadata": {
  "kernelspec": {
   "display_name": "Python 3",
   "language": "python",
   "name": "python3"
  },
  "language_info": {
   "codemirror_mode": {
    "name": "ipython",
    "version": 2
   },
   "file_extension": ".py",
   "mimetype": "text/x-python",
   "name": "python",
   "nbconvert_exporter": "python",
   "pygments_lexer": "ipython2",
   "version": "2.7.6"
  }
 },
 "nbformat": 4,
 "nbformat_minor": 0
}
